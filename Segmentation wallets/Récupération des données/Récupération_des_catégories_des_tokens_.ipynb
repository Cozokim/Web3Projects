{
  "nbformat": 4,
  "nbformat_minor": 0,
  "metadata": {
    "colab": {
      "provenance": []
    },
    "kernelspec": {
      "name": "python3",
      "display_name": "Python 3"
    },
    "language_info": {
      "name": "python"
    }
  },
  "cells": [
    {
      "cell_type": "markdown",
      "source": [
        "Requete catégories spécifique. il faut le refaire pour TOUTES les catégories"
      ],
      "metadata": {
        "id": "UTrn45owtd_o"
      }
    },
    {
      "cell_type": "code",
      "source": [
        "url = 'https://pro-api.coinmarketcap.com/v1/cryptocurrency/category'\n",
        "parameters = {\n",
        "  'id': \"605e2ce9d41eae1066535f7c\"\n",
        "}\n",
        "headers = {\n",
        "  'Accepts': 'application/json',\n",
        "  'X-CMC_PRO_API_KEY': '874914e5-67ad-403e-881e-578fd983960e',\n",
        "}\n",
        "\n",
        "session = Session()\n",
        "session.headers.update(headers)\n",
        "\n",
        "try:\n",
        "  response = session.get(url, params=parameters)\n",
        "  data = json.loads(response.text)\n",
        "  print(data)\n",
        "except (ConnectionError, Timeout, TooManyRedirects) as e:\n",
        "  print(e)\n",
        "  "
      ],
      "metadata": {
        "colab": {
          "base_uri": "https://localhost:8080/"
        },
        "id": "KDG51jvqrrRO",
        "outputId": "1ad54656-4f4b-4e8c-fcff-5ee10a113064"
      },
      "execution_count": null,
      "outputs": [
        {
          "output_type": "stream",
          "name": "stdout",
          "text": [
            "{'status': {'timestamp': '2022-11-07T15:31:03.118Z', 'error_code': 0, 'error_message': None, 'elapsed': 40, 'credit_count': 1, 'notice': None}, 'data': {'id': '605e2ce9d41eae1066535f7c', 'name': 'a16z Portfolio', 'title': 'a16z Portfolio', 'description': 'a16z Portfolio', 'num_tokens': 17, 'last_updated': '2021-11-10T17:23:01.089Z', 'avg_price_change': -4.668210510588234, 'market_cap': 628035028468.0502, 'market_cap_change': -4.659364705882354, 'volume': 67169904367.26644, 'volume_change': 16.271776470588236, 'coins': [{'id': 1, 'name': 'Bitcoin', 'symbol': 'BTC', 'slug': 'bitcoin', 'num_market_pairs': 9827, 'date_added': '2013-04-28T00:00:00.000Z', 'tags': ['mineable', 'pow', 'sha-256', 'store-of-value', 'state-channel', 'coinbase-ventures-portfolio', 'three-arrows-capital-portfolio', 'polychain-capital-portfolio', 'binance-labs-portfolio', 'blockchain-capital-portfolio', 'boostvc-portfolio', 'cms-holdings-portfolio', 'dcg-portfolio', 'dragonfly-capital-portfolio', 'electric-capital-portfolio', 'fabric-ventures-portfolio', 'framework-ventures-portfolio', 'galaxy-digital-portfolio', 'huobi-capital-portfolio', 'alameda-research-portfolio', 'a16z-portfolio', '1confirmation-portfolio', 'winklevoss-capital-portfolio', 'usv-portfolio', 'placeholder-ventures-portfolio', 'pantera-capital-portfolio', 'multicoin-capital-portfolio', 'paradigm-portfolio'], 'max_supply': 21000000, 'circulating_supply': 19200800, 'total_supply': 19200800, 'is_active': 1, 'platform': None, 'cmc_rank': 1, 'is_fiat': 0, 'self_reported_circulating_supply': None, 'self_reported_market_cap': None, 'tvl_ratio': None, 'last_updated': '2022-11-07T15:29:00.000Z', 'quote': {'USD': {'price': 20716.072030901567, 'volume_24h': 49834050542.14998, 'volume_change_24h': 57.1161, 'percent_change_1h': -0.06818323, 'percent_change_24h': -2.60275774, 'percent_change_7d': 1.6710744, 'percent_change_30d': 6.32221161, 'percent_change_60d': 7.32138245, 'percent_change_90d': -10.48814082, 'market_cap': 397765155850.9348, 'market_cap_dominance': 38.6737, 'fully_diluted_market_cap': 435037512648.93, 'tvl': None, 'last_updated': '2022-11-07T15:29:00.000Z'}}}, {'id': 1027, 'name': 'Ethereum', 'symbol': 'ETH', 'slug': 'ethereum', 'num_market_pairs': 6172, 'date_added': '2015-08-07T00:00:00.000Z', 'tags': ['pos', 'smart-contracts', 'ethereum-ecosystem', 'coinbase-ventures-portfolio', 'three-arrows-capital-portfolio', 'polychain-capital-portfolio', 'binance-labs-portfolio', 'blockchain-capital-portfolio', 'boostvc-portfolio', 'cms-holdings-portfolio', 'dcg-portfolio', 'dragonfly-capital-portfolio', 'electric-capital-portfolio', 'fabric-ventures-portfolio', 'framework-ventures-portfolio', 'hashkey-capital-portfolio', 'kenetic-capital-portfolio', 'huobi-capital-portfolio', 'alameda-research-portfolio', 'a16z-portfolio', '1confirmation-portfolio', 'winklevoss-capital-portfolio', 'usv-portfolio', 'placeholder-ventures-portfolio', 'pantera-capital-portfolio', 'multicoin-capital-portfolio', 'paradigm-portfolio', 'injective-ecosystem'], 'max_supply': None, 'circulating_supply': 122373863.499, 'total_supply': 122373863.499, 'is_active': 1, 'platform': None, 'cmc_rank': 2, 'is_fiat': 0, 'self_reported_circulating_supply': None, 'self_reported_market_cap': None, 'tvl_ratio': None, 'last_updated': '2022-11-07T15:29:00.000Z', 'quote': {'USD': {'price': 1580.1575402475844, 'volume_24h': 15129361992.63663, 'volume_change_24h': 58.0502, 'percent_change_1h': 0.05168371, 'percent_change_24h': -3.05024247, 'percent_change_7d': 0.90919524, 'percent_change_30d': 19.34446879, 'percent_change_60d': -3.7060871, 'percent_change_90d': -6.67400477, 'market_cap': 193369983137.1735, 'market_cap_dominance': 18.7961, 'fully_diluted_market_cap': 193369983137.17, 'tvl': None, 'last_updated': '2022-11-07T15:29:00.000Z'}}}, {'id': 52, 'name': 'XRP', 'symbol': 'XRP', 'slug': 'xrp', 'num_market_pairs': 835, 'date_added': '2013-08-04T00:00:00.000Z', 'tags': ['medium-of-exchange', 'enterprise-solutions', 'arrington-xrp-capital-portfolio', 'galaxy-digital-portfolio', 'a16z-portfolio', 'pantera-capital-portfolio'], 'max_supply': 100000000000, 'circulating_supply': 50215300844, 'total_supply': 99989233161, 'is_active': 1, 'platform': None, 'cmc_rank': 6, 'is_fiat': 0, 'self_reported_circulating_supply': None, 'self_reported_market_cap': None, 'tvl_ratio': None, 'last_updated': '2022-11-07T15:29:00.000Z', 'quote': {'USD': {'price': 0.4741875766255095, 'volume_24h': 1452558613.7480352, 'volume_change_24h': 53.5659, 'percent_change_1h': -0.02677853, 'percent_change_24h': -3.67222038, 'percent_change_7d': 4.74875241, 'percent_change_30d': -8.62917753, 'percent_change_60d': 41.82740566, 'percent_change_90d': 30.09919948, 'market_cap': 23811471816.73726, 'market_cap_dominance': 2.314, 'fully_diluted_market_cap': 47418757662.55, 'tvl': None, 'last_updated': '2022-11-07T15:29:00.000Z'}}}, {'id': 7083, 'name': 'Uniswap', 'symbol': 'UNI', 'slug': 'uniswap', 'num_market_pairs': 512, 'date_added': '2020-09-17T00:00:00.000Z', 'tags': ['decentralized-exchange', 'defi', 'dao', 'yield-farming', 'amm', 'coinbase-ventures-portfolio', 'three-arrows-capital-portfolio', 'governance', 'blockchain-capital-portfolio', 'defiance-capital-portfolio', 'alameda-research-portfolio', 'a16z-portfolio', 'pantera-capital-portfolio', 'parafi-capital', 'paradigm-portfolio', 'arbitrum-ecosytem', 'injective-ecosystem'], 'max_supply': 1000000000, 'circulating_supply': 762209326.5354977, 'total_supply': 1000000000, 'platform': {'id': 1027, 'name': 'Ethereum', 'symbol': 'ETH', 'slug': 'ethereum', 'token_address': '0x1f9840a85d5af5bf1d1762f925bdaddc4201f984'}, 'is_active': 1, 'cmc_rank': 17, 'is_fiat': 0, 'self_reported_circulating_supply': None, 'self_reported_market_cap': None, 'tvl_ratio': 1.24320334, 'last_updated': '2022-11-07T15:29:00.000Z', 'quote': {'USD': {'price': 7.182147494225292, 'volume_24h': 275149889.6595657, 'volume_change_24h': 69.2873, 'percent_change_1h': -0.08607881, 'percent_change_24h': -3.98061458, 'percent_change_7d': 4.28525707, 'percent_change_30d': 8.76022353, 'percent_change_60d': 16.81892735, 'percent_change_90d': -12.66092779, 'market_cap': 5474299804.652072, 'market_cap_dominance': 0.5323, 'fully_diluted_market_cap': 7182147494.23, 'tvl': 4403382469.87562, 'last_updated': '2022-11-07T15:29:00.000Z'}}}, {'id': 2280, 'name': 'Filecoin', 'symbol': 'FIL', 'slug': 'filecoin', 'num_market_pairs': 249, 'date_added': '2017-12-13T00:00:00.000Z', 'tags': ['mineable', 'distributed-computing', 'filesharing', 'storage', 'polychain-capital-portfolio', 'blockchain-capital-portfolio', 'boostvc-portfolio', 'dcg-portfolio', 'hashkey-capital-portfolio', 'a16z-portfolio', 'winklevoss-capital-portfolio', 'pantera-capital-portfolio', 'web3'], 'max_supply': None, 'circulating_supply': 316296699, 'total_supply': 316296699, 'is_active': 1, 'platform': None, 'cmc_rank': 34, 'is_fiat': 0, 'self_reported_circulating_supply': None, 'self_reported_market_cap': None, 'tvl_ratio': None, 'last_updated': '2022-11-07T15:29:00.000Z', 'quote': {'USD': {'price': 5.7563692745320845, 'volume_24h': 247217954.60002163, 'volume_change_24h': -14.9842, 'percent_change_1h': 0.74482602, 'percent_change_24h': -8.18047465, 'percent_change_7d': 6.93637734, 'percent_change_30d': 5.61105812, 'percent_change_60d': -1.25550144, 'percent_change_90d': -28.56127606, 'market_cap': 1820720599.7595232, 'market_cap_dominance': 0.177, 'fully_diluted_market_cap': 1820720599.76, 'tvl': None, 'last_updated': '2022-11-07T15:29:00.000Z'}}}, {'id': 4558, 'name': 'Flow', 'symbol': 'FLOW', 'slug': 'flow', 'num_market_pairs': 101, 'date_added': '2021-01-27T00:00:00.000Z', 'tags': ['collectibles-nfts', 'coinbase-ventures-portfolio', 'coinfund-portfolio', 'dcg-portfolio', 'ledgerprime-portfolio', 'a16z-portfolio', 'animoca-brands-portfolio'], 'max_supply': None, 'circulating_supply': 1036200000, 'total_supply': 1368093963, 'is_active': 1, 'platform': None, 'cmc_rank': 35, 'is_fiat': 0, 'self_reported_circulating_supply': None, 'self_reported_market_cap': None, 'tvl_ratio': None, 'last_updated': '2022-11-07T15:29:00.000Z', 'quote': {'USD': {'price': 1.7295962440809038, 'volume_24h': 51603361.82124703, 'volume_change_24h': -17.7346, 'percent_change_1h': 0.20433465, 'percent_change_24h': -4.76430394, 'percent_change_7d': 3.41446746, 'percent_change_30d': 2.28737289, 'percent_change_60d': -10.84208598, 'percent_change_90d': -40.21514485, 'market_cap': 1792207628.1166325, 'market_cap_dominance': 0.1742, 'fully_diluted_market_cap': 2366250179.95, 'tvl': None, 'last_updated': '2022-11-07T15:29:00.000Z'}}}, {'id': 8916, 'name': 'Internet Computer', 'symbol': 'ICP', 'slug': 'internet-computer', 'num_market_pairs': 134, 'date_added': '2021-03-23T00:00:00.000Z', 'tags': ['platform', 'distributed-computing', 'smart-contracts', 'polychain-capital-portfolio', 'metaverse', 'electric-capital-portfolio', 'hashkey-capital-portfolio', 'a16z-portfolio', 'multicoin-capital-portfolio', 'exnetwork-capital-portfolio', 'web3', 'internet-computer-ecosystem'], 'max_supply': None, 'circulating_supply': 269009527.6655973, 'total_supply': 488508776.41603994, 'is_active': 1, 'platform': None, 'cmc_rank': 39, 'is_fiat': 0, 'self_reported_circulating_supply': 269018623.68812466, 'self_reported_market_cap': 1385712888.0528033, 'tvl_ratio': None, 'last_updated': '2022-11-07T15:29:00.000Z', 'quote': {'USD': {'price': 5.150992407348239, 'volume_24h': 58680535.20984212, 'volume_change_24h': -9.7271, 'percent_change_1h': 0.64301761, 'percent_change_24h': -6.87300608, 'percent_change_7d': -2.93164411, 'percent_change_30d': -12.54111625, 'percent_change_60d': -20.67827533, 'percent_change_90d': -34.14095766, 'market_cap': 1385666034.5098279, 'market_cap_dominance': 0.1347, 'fully_diluted_market_cap': 2516304998.24, 'tvl': None, 'last_updated': '2022-11-07T15:29:00.000Z'}}}, {'id': 1518, 'name': 'Maker', 'symbol': 'MKR', 'slug': 'maker', 'num_market_pairs': 287, 'date_added': '2017-01-29T00:00:00.000Z', 'tags': ['store-of-value', 'defi', 'dao', 'polychain-capital-portfolio', 'governance', 'lending-borowing', 'dragonfly-capital-portfolio', 'electric-capital-portfolio', 'a16z-portfolio', '1confirmation-portfolio', 'placeholder-ventures-portfolio', 'pantera-capital-portfolio', 'paradigm-portfolio', 'near-protocol-ecosystem', 'arbitrum-ecosytem', 'spartan-group', 'bnb-chain'], 'max_supply': 1005577, 'circulating_supply': 977631.03695089, 'total_supply': 977631.03695089, 'platform': {'id': 1027, 'name': 'Ethereum', 'symbol': 'ETH', 'slug': 'ethereum', 'token_address': '0x9f8f72aa9304c8b593d555f12ef6589cc3a579a2'}, 'is_active': 1, 'cmc_rank': 58, 'is_fiat': 0, 'self_reported_circulating_supply': None, 'self_reported_market_cap': None, 'tvl_ratio': 0.10152963, 'last_updated': '2022-11-07T15:29:00.000Z', 'quote': {'USD': {'price': 832.1957818163627, 'volume_24h': 38422321.59139879, 'volume_change_24h': 49.9925, 'percent_change_1h': -0.08869582, 'percent_change_24h': -7.60152366, 'percent_change_7d': -7.77172505, 'percent_change_30d': -4.63692056, 'percent_change_60d': 13.06418373, 'percent_change_90d': -22.6203541, 'market_cap': 813580425.1232872, 'market_cap_dominance': 0.0791, 'fully_diluted_market_cap': 836836937.69, 'tvl': 8013231453.29351, 'last_updated': '2022-11-07T15:29:00.000Z'}}}, {'id': 5632, 'name': 'Arweave', 'symbol': 'AR', 'slug': 'arweave', 'num_market_pairs': 72, 'date_added': '2020-05-27T00:00:00.000Z', 'tags': ['distributed-computing', 'filesharing', 'storage', 'coinbase-ventures-portfolio', 'solana-ecosystem', 'arrington-xrp-capital-portfolio', 'blockchain-capital-portfolio', 'a16z-portfolio', 'multicoin-capital-portfolio', 'web3'], 'max_supply': 66000000, 'circulating_supply': 33394701, 'total_supply': 63190435, 'is_active': 1, 'platform': None, 'cmc_rank': 84, 'is_fiat': 0, 'self_reported_circulating_supply': None, 'self_reported_market_cap': None, 'tvl_ratio': None, 'last_updated': '2022-11-07T15:29:00.000Z', 'quote': {'USD': {'price': 13.966326160135473, 'volume_24h': 90695903.64243817, 'volume_change_24h': -27.1118, 'percent_change_1h': 0.68043292, 'percent_change_24h': -9.92418555, 'percent_change_7d': 38.06783875, 'percent_change_30d': 54.85431389, 'percent_change_60d': 39.81397276, 'percent_change_90d': -3.23563872, 'market_cap': 466401286.1862022, 'market_cap_dominance': 0.0453, 'fully_diluted_market_cap': 921777526.57, 'tvl': None, 'last_updated': '2022-11-07T15:29:00.000Z'}}}, {'id': 5692, 'name': 'Compound', 'symbol': 'COMP', 'slug': 'compound', 'num_market_pairs': 297, 'date_added': '2020-06-16T00:00:00.000Z', 'tags': ['defi', 'dao', 'yield-farming', 'polkadot-ecosystem', 'coinbase-ventures-portfolio', 'three-arrows-capital-portfolio', 'polychain-capital-portfolio', 'lending-borowing', 'dragonfly-capital-portfolio', 'alameda-research-portfolio', 'a16z-portfolio', 'pantera-capital-portfolio', 'paradigm-portfolio', 'arbitrum-ecosytem', 'bnb-chain'], 'max_supply': 10000000, 'circulating_supply': 7267151.99852569, 'total_supply': 10000000, 'platform': {'id': 1027, 'name': 'Ethereum', 'symbol': 'ETH', 'slug': 'ethereum', 'token_address': '0xc00e94cb662c3520282e6f5717214004a7f26888'}, 'is_active': 1, 'cmc_rank': 100, 'is_fiat': 0, 'self_reported_circulating_supply': None, 'self_reported_market_cap': None, 'tvl_ratio': 0.17112219, 'last_updated': '2022-11-07T15:29:00.000Z', 'quote': {'USD': {'price': 50.35012871957715, 'volume_24h': 36844211.27572371, 'volume_change_24h': 4.509, 'percent_change_1h': 0.69895106, 'percent_change_24h': -2.34752163, 'percent_change_7d': 0.79133272, 'percent_change_30d': -14.63706834, 'percent_change_60d': 0.87233969, 'percent_change_90d': -15.70137238, 'market_cap': 365902038.5505008, 'market_cap_dominance': 0.0356, 'fully_diluted_market_cap': 503501287.2, 'tvl': 2138250130.56824, 'last_updated': '2022-11-07T15:29:00.000Z'}}}, {'id': 5567, 'name': 'Celo', 'symbol': 'CELO', 'slug': 'celo', 'num_market_pairs': 119, 'date_added': '2020-05-22T00:00:00.000Z', 'tags': ['pos', 'zero-knowledge-proofs', 'mobile', 'payments', 'smart-contracts', 'coinbase-ventures-portfolio', 'polychain-capital-portfolio', 'dragonfly-capital-portfolio', 'electric-capital-portfolio', 'a16z-portfolio', 'celo-ecosystem'], 'max_supply': 1000000000, 'circulating_supply': 473376178, 'total_supply': 1000000000, 'is_active': 1, 'platform': None, 'cmc_rank': 105, 'is_fiat': 0, 'self_reported_circulating_supply': None, 'self_reported_market_cap': None, 'tvl_ratio': None, 'last_updated': '2022-11-07T15:29:00.000Z', 'quote': {'USD': {'price': 0.7512154850172713, 'volume_24h': 33511399.07536329, 'volume_change_24h': 126.9523, 'percent_change_1h': 0.69910239, 'percent_change_24h': -1.0561468, 'percent_change_7d': 1.13793804, 'percent_change_30d': -3.47928571, 'percent_change_60d': -7.92361877, 'percent_change_90d': -30.24949807, 'market_cap': 355607515.1518922, 'market_cap_dominance': 0.0346, 'fully_diluted_market_cap': 751215485.02, 'tvl': None, 'last_updated': '2022-11-07T15:29:00.000Z'}}}, {'id': 7653, 'name': 'Oasis Network', 'symbol': 'ROSE', 'slug': 'oasis-network', 'num_market_pairs': 66, 'date_added': '2020-11-12T00:00:00.000Z', 'tags': ['cosmos-ecosystem', 'collectibles-nfts', 'defi', 'privacy', 'scaling', 'smart-contracts', 'polychain-capital-portfolio', 'binance-labs-portfolio', 'arrington-xrp-capital-portfolio', 'blockchain-capital-portfolio', 'dragonfly-capital-portfolio', 'electric-capital-portfolio', 'kenetic-capital-portfolio', 'huobi-capital-portfolio', 'a16z-portfolio', 'winklevoss-capital-portfolio', 'pantera-capital-portfolio', 'injective-ecosystem'], 'max_supply': 10000000000, 'circulating_supply': 5027383223, 'total_supply': 10000000000, 'platform': {'id': 1027, 'name': 'Ethereum', 'symbol': 'ETH', 'slug': 'ethereum', 'token_address': '0x26B80FBfC01b71495f477d5237071242e0d959d7'}, 'is_active': 1, 'cmc_rank': 109, 'is_fiat': 0, 'self_reported_circulating_supply': None, 'self_reported_market_cap': None, 'tvl_ratio': None, 'last_updated': '2022-11-07T15:29:00.000Z', 'quote': {'USD': {'price': 0.06585765128959188, 'volume_24h': 38667803.15751505, 'volume_change_24h': 6.1498, 'percent_change_1h': 0.31737486, 'percent_change_24h': -3.69949751, 'percent_change_7d': 7.69642118, 'percent_change_30d': 12.22183664, 'percent_change_60d': 8.93246759, 'percent_change_90d': -36.41384041, 'market_cap': 331091651.19947857, 'market_cap_dominance': 0.0322, 'fully_diluted_market_cap': 658576512.9, 'tvl': None, 'last_updated': '2022-11-07T15:29:00.000Z'}}}, {'id': 5566, 'name': 'Keep Network', 'symbol': 'KEEP', 'slug': 'keep-network', 'num_market_pairs': 65, 'date_added': '2020-05-13T00:00:00.000Z', 'tags': ['defi', 'privacy', 'coinbase-ventures-portfolio', 'polychain-capital-portfolio', 'boostvc-portfolio', 'fabric-ventures-portfolio', 'a16z-portfolio', 'multicoin-capital-portfolio', 'parafi-capital', 'paradigm-portfolio'], 'max_supply': 1000000000, 'circulating_supply': 860762270.3720057, 'total_supply': 999848780.8, 'platform': {'id': 1027, 'name': 'Ethereum', 'symbol': 'ETH', 'slug': 'ethereum', 'token_address': '0x85eee30c52b0b379b046fb0f85f4f3dc3009afec'}, 'is_active': 1, 'cmc_rank': 188, 'is_fiat': 0, 'self_reported_circulating_supply': None, 'self_reported_market_cap': None, 'tvl_ratio': 3.94792308, 'last_updated': '2022-11-07T15:29:00.000Z', 'quote': {'USD': {'price': 0.1274299177067221, 'volume_24h': 314228.67137404, 'volume_change_24h': -32.4907, 'percent_change_1h': 0.07691114, 'percent_change_24h': -4.83045202, 'percent_change_7d': 1.71781009, 'percent_change_30d': -11.10619997, 'percent_change_60d': -16.20399015, 'percent_change_90d': -31.35055065, 'market_cap': 109686865.27855596, 'market_cap_dominance': 0.0107, 'fully_diluted_market_cap': 127429917.71, 'tvl': 27783435.22689, 'last_updated': '2022-11-07T15:29:00.000Z'}}}, {'id': 5026, 'name': 'Orchid', 'symbol': 'OXT', 'slug': 'orchid', 'num_market_pairs': 79, 'date_added': '2019-12-16T00:00:00.000Z', 'tags': ['polychain-capital-portfolio', 'blockchain-capital-portfolio', 'fabric-ventures-portfolio', 'kenetic-capital-portfolio', 'a16z-portfolio', 'web3'], 'max_supply': None, 'circulating_supply': 690690083.7746798, 'total_supply': 1000000000, 'platform': {'id': 1027, 'name': 'Ethereum', 'symbol': 'ETH', 'slug': 'ethereum', 'token_address': '0x4575f41308EC1483f3d399aa9a2826d74Da13Deb'}, 'is_active': 1, 'cmc_rank': 308, 'is_fiat': 0, 'self_reported_circulating_supply': None, 'self_reported_market_cap': None, 'tvl_ratio': None, 'last_updated': '2022-11-07T15:29:00.000Z', 'quote': {'USD': {'price': 0.09868420325598451, 'volume_24h': 2378351.29359433, 'volume_change_24h': 51.0176, 'percent_change_1h': 0.07772328, 'percent_change_24h': -3.17643146, 'percent_change_7d': 5.3447122, 'percent_change_30d': -0.43142722, 'percent_change_60d': -10.88491807, 'percent_change_90d': -18.47872457, 'market_cap': 68160200.61411346, 'market_cap_dominance': 0.0066, 'fully_diluted_market_cap': 98684203.26, 'tvl': None, 'last_updated': '2022-11-07T15:29:00.000Z'}}}, {'id': 8075, 'name': 'Rally', 'symbol': 'RLY', 'slug': 'rally', 'num_market_pairs': 61, 'date_added': '2020-12-22T00:00:00.000Z', 'tags': ['yield-farming', 'social-token', 'social-money', 'coinbase-ventures-portfolio', 'kenetic-capital-portfolio', 'ledgerprime-portfolio', 'a16z-portfolio'], 'max_supply': 15000000000, 'circulating_supply': 3536478157.4284306, 'total_supply': 15000000000, 'platform': {'id': 1027, 'name': 'Ethereum', 'symbol': 'ETH', 'slug': 'ethereum', 'token_address': '0xf1f955016EcbCd7321c7266BccFB96c68ea5E49b'}, 'is_active': 1, 'cmc_rank': 336, 'is_fiat': 0, 'self_reported_circulating_supply': None, 'self_reported_market_cap': None, 'tvl_ratio': None, 'last_updated': '2022-11-07T15:29:00.000Z', 'quote': {'USD': {'price': 0.016771529702558106, 'volume_24h': 3430515.77609289, 'volume_change_24h': -73.4664, 'percent_change_1h': 0.21780025, 'percent_change_24h': -1.29010444, 'percent_change_7d': 15.62298661, 'percent_change_30d': -15.68659543, 'percent_change_60d': -46.32879964, 'percent_change_90d': -60.15433721, 'market_cap': 59312148.459758885, 'market_cap_dominance': 0.0058, 'fully_diluted_market_cap': 251572945.54, 'tvl': None, 'last_updated': '2022-11-07T15:29:00.000Z'}}}, {'id': 10688, 'name': 'Yield Guild Games', 'symbol': 'YGG', 'slug': 'yield-guild-games', 'num_market_pairs': 102, 'date_added': '2021-06-28T00:00:00.000Z', 'tags': ['collectibles-nfts', 'gaming', 'entertainment', 'dao', 'metaverse', 'a16z-portfolio', 'play-to-earn', 'animoca-brands-portfolio', 'gaming-guild', 'okex-blockdream-ventures-portfolio'], 'max_supply': 1000000000, 'circulating_supply': 116331159.1611021, 'total_supply': 1000000000, 'platform': {'id': 1027, 'name': 'Ethereum', 'symbol': 'ETH', 'slug': 'ethereum', 'token_address': '0x25f8087ead173b73d6e8b84329989a8eea16cf73'}, 'is_active': 1, 'cmc_rank': 440, 'is_fiat': 0, 'self_reported_circulating_supply': 87906250, 'self_reported_market_cap': 28882247.001716886, 'tvl_ratio': None, 'last_updated': '2022-11-07T15:29:00.000Z', 'quote': {'USD': {'price': 0.3285573779079063, 'volume_24h': 31261004.46443499, 'volume_change_24h': -26.0956, 'percent_change_1h': 0.87432513, 'percent_change_24h': -8.06737081, 'percent_change_7d': 13.38299193, 'percent_change_30d': -5.63727263, 'percent_change_60d': -30.65106304, 'percent_change_90d': -56.60505616, 'market_cap': 38221460.62295902, 'market_cap_dominance': 0.0037, 'fully_diluted_market_cap': 328557377.91, 'tvl': None, 'last_updated': '2022-11-07T15:29:00.000Z'}}}, {'id': 5221, 'name': 'Handshake', 'symbol': 'HNS', 'slug': 'handshake', 'num_market_pairs': 13, 'date_added': '2020-02-22T00:00:00.000Z', 'tags': ['distributed-computing', 'collectibles-nfts', 'storage', 'boostvc-portfolio', 'dcg-portfolio', 'kenetic-capital-portfolio', 'a16z-portfolio', 'pantera-capital-portfolio', 'web3'], 'max_supply': 2040000000, 'circulating_supply': 542367671.737807, 'total_supply': 2040000000, 'is_active': 1, 'platform': None, 'cmc_rank': 612, 'is_fiat': 0, 'self_reported_circulating_supply': None, 'self_reported_market_cap': None, 'tvl_ratio': None, 'last_updated': '2022-11-07T15:29:00.000Z', 'quote': {'USD': {'price': 0.03451740954458645, 'volume_24h': 48372.68787926, 'volume_change_24h': 5.2017, 'percent_change_1h': -1.53668614, 'percent_change_24h': -5.14992342, 'percent_change_7d': -0.60972873, 'percent_change_30d': -8.36404726, 'percent_change_60d': -39.68779925, 'percent_change_90d': -42.58314952, 'market_cap': 18721127.04911771, 'market_cap_dominance': 0.0018, 'fully_diluted_market_cap': 70415515.47, 'tvl': None, 'last_updated': '2022-11-07T15:29:00.000Z'}}}]}}\n"
          ]
        }
      ]
    },
    {
      "cell_type": "code",
      "source": [
        "data[\"data\"][\"coins\"][0]"
      ],
      "metadata": {
        "colab": {
          "base_uri": "https://localhost:8080/"
        },
        "id": "a5B4xxbkut0h",
        "outputId": "3afe0180-6788-4eea-f86e-884f76f2844c"
      },
      "execution_count": null,
      "outputs": [
        {
          "output_type": "execute_result",
          "data": {
            "text/plain": [
              "{'id': 1,\n",
              " 'name': 'Bitcoin',\n",
              " 'symbol': 'BTC',\n",
              " 'slug': 'bitcoin',\n",
              " 'num_market_pairs': 9827,\n",
              " 'date_added': '2013-04-28T00:00:00.000Z',\n",
              " 'tags': ['mineable',\n",
              "  'pow',\n",
              "  'sha-256',\n",
              "  'store-of-value',\n",
              "  'state-channel',\n",
              "  'coinbase-ventures-portfolio',\n",
              "  'three-arrows-capital-portfolio',\n",
              "  'polychain-capital-portfolio',\n",
              "  'binance-labs-portfolio',\n",
              "  'blockchain-capital-portfolio',\n",
              "  'boostvc-portfolio',\n",
              "  'cms-holdings-portfolio',\n",
              "  'dcg-portfolio',\n",
              "  'dragonfly-capital-portfolio',\n",
              "  'electric-capital-portfolio',\n",
              "  'fabric-ventures-portfolio',\n",
              "  'framework-ventures-portfolio',\n",
              "  'galaxy-digital-portfolio',\n",
              "  'huobi-capital-portfolio',\n",
              "  'alameda-research-portfolio',\n",
              "  'a16z-portfolio',\n",
              "  '1confirmation-portfolio',\n",
              "  'winklevoss-capital-portfolio',\n",
              "  'usv-portfolio',\n",
              "  'placeholder-ventures-portfolio',\n",
              "  'pantera-capital-portfolio',\n",
              "  'multicoin-capital-portfolio',\n",
              "  'paradigm-portfolio'],\n",
              " 'max_supply': 21000000,\n",
              " 'circulating_supply': 19200800,\n",
              " 'total_supply': 19200800,\n",
              " 'is_active': 1,\n",
              " 'platform': None,\n",
              " 'cmc_rank': 1,\n",
              " 'is_fiat': 0,\n",
              " 'self_reported_circulating_supply': None,\n",
              " 'self_reported_market_cap': None,\n",
              " 'tvl_ratio': None,\n",
              " 'last_updated': '2022-11-07T15:29:00.000Z',\n",
              " 'quote': {'USD': {'price': 20716.072030901567,\n",
              "   'volume_24h': 49834050542.14998,\n",
              "   'volume_change_24h': 57.1161,\n",
              "   'percent_change_1h': -0.06818323,\n",
              "   'percent_change_24h': -2.60275774,\n",
              "   'percent_change_7d': 1.6710744,\n",
              "   'percent_change_30d': 6.32221161,\n",
              "   'percent_change_60d': 7.32138245,\n",
              "   'percent_change_90d': -10.48814082,\n",
              "   'market_cap': 397765155850.9348,\n",
              "   'market_cap_dominance': 38.6737,\n",
              "   'fully_diluted_market_cap': 435037512648.93,\n",
              "   'tvl': None,\n",
              "   'last_updated': '2022-11-07T15:29:00.000Z'}}}"
            ]
          },
          "metadata": {},
          "execution_count": 61
        }
      ]
    },
    {
      "cell_type": "code",
      "source": [
        "liste = []"
      ],
      "metadata": {
        "id": "UntguvDMvNQv"
      },
      "execution_count": null,
      "outputs": []
    },
    {
      "cell_type": "code",
      "source": [
        "for element in data[\"data\"][\"coins\"]:\n",
        "  liste.append(element)"
      ],
      "metadata": {
        "id": "fgcEbEaGt522"
      },
      "execution_count": null,
      "outputs": []
    },
    {
      "cell_type": "code",
      "source": [
        "liste_slugs=[]"
      ],
      "metadata": {
        "id": "Es_VDSI4wbxG"
      },
      "execution_count": null,
      "outputs": []
    },
    {
      "cell_type": "code",
      "source": [
        "for i in liste:\n",
        "  liste_slugs.append(i['slug'])"
      ],
      "metadata": {
        "id": "cPmQtA7rAWOw"
      },
      "execution_count": null,
      "outputs": []
    },
    {
      "cell_type": "code",
      "source": [
        "liste_slugs"
      ],
      "metadata": {
        "colab": {
          "base_uri": "https://localhost:8080/"
        },
        "id": "wuZU9e_eA-7y",
        "outputId": "4ed219a5-1e06-42fb-9b96-f2378b4f4e76"
      },
      "execution_count": null,
      "outputs": [
        {
          "output_type": "execute_result",
          "data": {
            "text/plain": [
              "['bitcoin',\n",
              " 'ethereum',\n",
              " 'xrp',\n",
              " 'uniswap',\n",
              " 'filecoin',\n",
              " 'flow',\n",
              " 'internet-computer',\n",
              " 'maker',\n",
              " 'arweave',\n",
              " 'compound',\n",
              " 'celo',\n",
              " 'oasis-network',\n",
              " 'keep-network',\n",
              " 'orchid',\n",
              " 'rally',\n",
              " 'yield-guild-games',\n",
              " 'handshake']"
            ]
          },
          "metadata": {},
          "execution_count": 180
        }
      ]
    },
    {
      "cell_type": "code",
      "source": [
        "liste_tags = []"
      ],
      "metadata": {
        "id": "piS5W8jLBKTe"
      },
      "execution_count": null,
      "outputs": []
    },
    {
      "cell_type": "code",
      "source": [
        "for i in liste:\n",
        "  liste_tags.append(i['tags'])"
      ],
      "metadata": {
        "id": "Q9w8vs_CxjLn"
      },
      "execution_count": null,
      "outputs": []
    },
    {
      "cell_type": "code",
      "source": [
        "liste_tags"
      ],
      "metadata": {
        "id": "CVstdxpqBQGF",
        "colab": {
          "base_uri": "https://localhost:8080/"
        },
        "outputId": "455b4f23-c1ab-46c4-b669-828e80acdcae"
      },
      "execution_count": null,
      "outputs": [
        {
          "output_type": "execute_result",
          "data": {
            "text/plain": [
              "[['mineable',\n",
              "  'pow',\n",
              "  'sha-256',\n",
              "  'store-of-value',\n",
              "  'state-channel',\n",
              "  'coinbase-ventures-portfolio',\n",
              "  'three-arrows-capital-portfolio',\n",
              "  'polychain-capital-portfolio',\n",
              "  'binance-labs-portfolio',\n",
              "  'blockchain-capital-portfolio',\n",
              "  'boostvc-portfolio',\n",
              "  'cms-holdings-portfolio',\n",
              "  'dcg-portfolio',\n",
              "  'dragonfly-capital-portfolio',\n",
              "  'electric-capital-portfolio',\n",
              "  'fabric-ventures-portfolio',\n",
              "  'framework-ventures-portfolio',\n",
              "  'galaxy-digital-portfolio',\n",
              "  'huobi-capital-portfolio',\n",
              "  'alameda-research-portfolio',\n",
              "  'a16z-portfolio',\n",
              "  '1confirmation-portfolio',\n",
              "  'winklevoss-capital-portfolio',\n",
              "  'usv-portfolio',\n",
              "  'placeholder-ventures-portfolio',\n",
              "  'pantera-capital-portfolio',\n",
              "  'multicoin-capital-portfolio',\n",
              "  'paradigm-portfolio'],\n",
              " ['pos',\n",
              "  'smart-contracts',\n",
              "  'ethereum-ecosystem',\n",
              "  'coinbase-ventures-portfolio',\n",
              "  'three-arrows-capital-portfolio',\n",
              "  'polychain-capital-portfolio',\n",
              "  'binance-labs-portfolio',\n",
              "  'blockchain-capital-portfolio',\n",
              "  'boostvc-portfolio',\n",
              "  'cms-holdings-portfolio',\n",
              "  'dcg-portfolio',\n",
              "  'dragonfly-capital-portfolio',\n",
              "  'electric-capital-portfolio',\n",
              "  'fabric-ventures-portfolio',\n",
              "  'framework-ventures-portfolio',\n",
              "  'hashkey-capital-portfolio',\n",
              "  'kenetic-capital-portfolio',\n",
              "  'huobi-capital-portfolio',\n",
              "  'alameda-research-portfolio',\n",
              "  'a16z-portfolio',\n",
              "  '1confirmation-portfolio',\n",
              "  'winklevoss-capital-portfolio',\n",
              "  'usv-portfolio',\n",
              "  'placeholder-ventures-portfolio',\n",
              "  'pantera-capital-portfolio',\n",
              "  'multicoin-capital-portfolio',\n",
              "  'paradigm-portfolio',\n",
              "  'injective-ecosystem'],\n",
              " ['medium-of-exchange',\n",
              "  'enterprise-solutions',\n",
              "  'arrington-xrp-capital-portfolio',\n",
              "  'galaxy-digital-portfolio',\n",
              "  'a16z-portfolio',\n",
              "  'pantera-capital-portfolio'],\n",
              " ['decentralized-exchange',\n",
              "  'defi',\n",
              "  'dao',\n",
              "  'yield-farming',\n",
              "  'amm',\n",
              "  'coinbase-ventures-portfolio',\n",
              "  'three-arrows-capital-portfolio',\n",
              "  'governance',\n",
              "  'blockchain-capital-portfolio',\n",
              "  'defiance-capital-portfolio',\n",
              "  'alameda-research-portfolio',\n",
              "  'a16z-portfolio',\n",
              "  'pantera-capital-portfolio',\n",
              "  'parafi-capital',\n",
              "  'paradigm-portfolio',\n",
              "  'arbitrum-ecosytem',\n",
              "  'injective-ecosystem'],\n",
              " ['mineable',\n",
              "  'distributed-computing',\n",
              "  'filesharing',\n",
              "  'storage',\n",
              "  'polychain-capital-portfolio',\n",
              "  'blockchain-capital-portfolio',\n",
              "  'boostvc-portfolio',\n",
              "  'dcg-portfolio',\n",
              "  'hashkey-capital-portfolio',\n",
              "  'a16z-portfolio',\n",
              "  'winklevoss-capital-portfolio',\n",
              "  'pantera-capital-portfolio',\n",
              "  'web3'],\n",
              " ['collectibles-nfts',\n",
              "  'coinbase-ventures-portfolio',\n",
              "  'coinfund-portfolio',\n",
              "  'dcg-portfolio',\n",
              "  'ledgerprime-portfolio',\n",
              "  'a16z-portfolio',\n",
              "  'animoca-brands-portfolio'],\n",
              " ['platform',\n",
              "  'distributed-computing',\n",
              "  'smart-contracts',\n",
              "  'polychain-capital-portfolio',\n",
              "  'metaverse',\n",
              "  'electric-capital-portfolio',\n",
              "  'hashkey-capital-portfolio',\n",
              "  'a16z-portfolio',\n",
              "  'multicoin-capital-portfolio',\n",
              "  'exnetwork-capital-portfolio',\n",
              "  'web3',\n",
              "  'internet-computer-ecosystem'],\n",
              " ['store-of-value',\n",
              "  'defi',\n",
              "  'dao',\n",
              "  'polychain-capital-portfolio',\n",
              "  'governance',\n",
              "  'lending-borowing',\n",
              "  'dragonfly-capital-portfolio',\n",
              "  'electric-capital-portfolio',\n",
              "  'a16z-portfolio',\n",
              "  '1confirmation-portfolio',\n",
              "  'placeholder-ventures-portfolio',\n",
              "  'pantera-capital-portfolio',\n",
              "  'paradigm-portfolio',\n",
              "  'near-protocol-ecosystem',\n",
              "  'arbitrum-ecosytem',\n",
              "  'spartan-group',\n",
              "  'bnb-chain'],\n",
              " ['distributed-computing',\n",
              "  'filesharing',\n",
              "  'storage',\n",
              "  'coinbase-ventures-portfolio',\n",
              "  'solana-ecosystem',\n",
              "  'arrington-xrp-capital-portfolio',\n",
              "  'blockchain-capital-portfolio',\n",
              "  'a16z-portfolio',\n",
              "  'multicoin-capital-portfolio',\n",
              "  'web3'],\n",
              " ['defi',\n",
              "  'dao',\n",
              "  'yield-farming',\n",
              "  'polkadot-ecosystem',\n",
              "  'coinbase-ventures-portfolio',\n",
              "  'three-arrows-capital-portfolio',\n",
              "  'polychain-capital-portfolio',\n",
              "  'lending-borowing',\n",
              "  'dragonfly-capital-portfolio',\n",
              "  'alameda-research-portfolio',\n",
              "  'a16z-portfolio',\n",
              "  'pantera-capital-portfolio',\n",
              "  'paradigm-portfolio',\n",
              "  'arbitrum-ecosytem',\n",
              "  'bnb-chain'],\n",
              " ['pos',\n",
              "  'zero-knowledge-proofs',\n",
              "  'mobile',\n",
              "  'payments',\n",
              "  'smart-contracts',\n",
              "  'coinbase-ventures-portfolio',\n",
              "  'polychain-capital-portfolio',\n",
              "  'dragonfly-capital-portfolio',\n",
              "  'electric-capital-portfolio',\n",
              "  'a16z-portfolio',\n",
              "  'celo-ecosystem'],\n",
              " ['cosmos-ecosystem',\n",
              "  'collectibles-nfts',\n",
              "  'defi',\n",
              "  'privacy',\n",
              "  'scaling',\n",
              "  'smart-contracts',\n",
              "  'polychain-capital-portfolio',\n",
              "  'binance-labs-portfolio',\n",
              "  'arrington-xrp-capital-portfolio',\n",
              "  'blockchain-capital-portfolio',\n",
              "  'dragonfly-capital-portfolio',\n",
              "  'electric-capital-portfolio',\n",
              "  'kenetic-capital-portfolio',\n",
              "  'huobi-capital-portfolio',\n",
              "  'a16z-portfolio',\n",
              "  'winklevoss-capital-portfolio',\n",
              "  'pantera-capital-portfolio',\n",
              "  'injective-ecosystem'],\n",
              " ['defi',\n",
              "  'privacy',\n",
              "  'coinbase-ventures-portfolio',\n",
              "  'polychain-capital-portfolio',\n",
              "  'boostvc-portfolio',\n",
              "  'fabric-ventures-portfolio',\n",
              "  'a16z-portfolio',\n",
              "  'multicoin-capital-portfolio',\n",
              "  'parafi-capital',\n",
              "  'paradigm-portfolio'],\n",
              " ['polychain-capital-portfolio',\n",
              "  'blockchain-capital-portfolio',\n",
              "  'fabric-ventures-portfolio',\n",
              "  'kenetic-capital-portfolio',\n",
              "  'a16z-portfolio',\n",
              "  'web3'],\n",
              " ['yield-farming',\n",
              "  'social-token',\n",
              "  'social-money',\n",
              "  'coinbase-ventures-portfolio',\n",
              "  'kenetic-capital-portfolio',\n",
              "  'ledgerprime-portfolio',\n",
              "  'a16z-portfolio'],\n",
              " ['collectibles-nfts',\n",
              "  'gaming',\n",
              "  'entertainment',\n",
              "  'dao',\n",
              "  'metaverse',\n",
              "  'a16z-portfolio',\n",
              "  'play-to-earn',\n",
              "  'animoca-brands-portfolio',\n",
              "  'gaming-guild',\n",
              "  'okex-blockdream-ventures-portfolio'],\n",
              " ['distributed-computing',\n",
              "  'collectibles-nfts',\n",
              "  'storage',\n",
              "  'boostvc-portfolio',\n",
              "  'dcg-portfolio',\n",
              "  'kenetic-capital-portfolio',\n",
              "  'a16z-portfolio',\n",
              "  'pantera-capital-portfolio',\n",
              "  'web3']]"
            ]
          },
          "metadata": {},
          "execution_count": 273
        }
      ]
    },
    {
      "cell_type": "code",
      "source": [
        "dico = {}"
      ],
      "metadata": {
        "id": "mMyOkAWvBa1-"
      },
      "execution_count": null,
      "outputs": []
    },
    {
      "cell_type": "code",
      "source": [
        "dico.update({liste_slugs[0] : 0})"
      ],
      "metadata": {
        "id": "eaB8xDibBqcP"
      },
      "execution_count": null,
      "outputs": []
    },
    {
      "cell_type": "code",
      "source": [
        "import itertools "
      ],
      "metadata": {
        "id": "AnkkByfpNpUi"
      },
      "execution_count": null,
      "outputs": []
    },
    {
      "cell_type": "code",
      "source": [
        "for i,e in zip(liste_slugs,liste_tags):\n",
        "  dico.update({i : e})"
      ],
      "metadata": {
        "id": "GhA2-05jHx0G"
      },
      "execution_count": null,
      "outputs": []
    },
    {
      "cell_type": "code",
      "source": [
        "dico"
      ],
      "metadata": {
        "id": "bJZa4ifkMQum",
        "colab": {
          "base_uri": "https://localhost:8080/"
        },
        "outputId": "438d3a20-35f1-4f68-d984-1dabcb1056d3"
      },
      "execution_count": null,
      "outputs": [
        {
          "output_type": "execute_result",
          "data": {
            "text/plain": [
              "{'bitcoin': ['mineable',\n",
              "  'pow',\n",
              "  'sha-256',\n",
              "  'store-of-value',\n",
              "  'state-channel',\n",
              "  'coinbase-ventures-portfolio',\n",
              "  'three-arrows-capital-portfolio',\n",
              "  'polychain-capital-portfolio',\n",
              "  'binance-labs-portfolio',\n",
              "  'blockchain-capital-portfolio',\n",
              "  'boostvc-portfolio',\n",
              "  'cms-holdings-portfolio',\n",
              "  'dcg-portfolio',\n",
              "  'dragonfly-capital-portfolio',\n",
              "  'electric-capital-portfolio',\n",
              "  'fabric-ventures-portfolio',\n",
              "  'framework-ventures-portfolio',\n",
              "  'galaxy-digital-portfolio',\n",
              "  'huobi-capital-portfolio',\n",
              "  'alameda-research-portfolio',\n",
              "  'a16z-portfolio',\n",
              "  '1confirmation-portfolio',\n",
              "  'winklevoss-capital-portfolio',\n",
              "  'usv-portfolio',\n",
              "  'placeholder-ventures-portfolio',\n",
              "  'pantera-capital-portfolio',\n",
              "  'multicoin-capital-portfolio',\n",
              "  'paradigm-portfolio'],\n",
              " 'ethereum': ['pos',\n",
              "  'smart-contracts',\n",
              "  'ethereum-ecosystem',\n",
              "  'coinbase-ventures-portfolio',\n",
              "  'three-arrows-capital-portfolio',\n",
              "  'polychain-capital-portfolio',\n",
              "  'binance-labs-portfolio',\n",
              "  'blockchain-capital-portfolio',\n",
              "  'boostvc-portfolio',\n",
              "  'cms-holdings-portfolio',\n",
              "  'dcg-portfolio',\n",
              "  'dragonfly-capital-portfolio',\n",
              "  'electric-capital-portfolio',\n",
              "  'fabric-ventures-portfolio',\n",
              "  'framework-ventures-portfolio',\n",
              "  'hashkey-capital-portfolio',\n",
              "  'kenetic-capital-portfolio',\n",
              "  'huobi-capital-portfolio',\n",
              "  'alameda-research-portfolio',\n",
              "  'a16z-portfolio',\n",
              "  '1confirmation-portfolio',\n",
              "  'winklevoss-capital-portfolio',\n",
              "  'usv-portfolio',\n",
              "  'placeholder-ventures-portfolio',\n",
              "  'pantera-capital-portfolio',\n",
              "  'multicoin-capital-portfolio',\n",
              "  'paradigm-portfolio',\n",
              "  'injective-ecosystem'],\n",
              " 'xrp': ['medium-of-exchange',\n",
              "  'enterprise-solutions',\n",
              "  'arrington-xrp-capital-portfolio',\n",
              "  'galaxy-digital-portfolio',\n",
              "  'a16z-portfolio',\n",
              "  'pantera-capital-portfolio'],\n",
              " 'uniswap': ['decentralized-exchange',\n",
              "  'defi',\n",
              "  'dao',\n",
              "  'yield-farming',\n",
              "  'amm',\n",
              "  'coinbase-ventures-portfolio',\n",
              "  'three-arrows-capital-portfolio',\n",
              "  'governance',\n",
              "  'blockchain-capital-portfolio',\n",
              "  'defiance-capital-portfolio',\n",
              "  'alameda-research-portfolio',\n",
              "  'a16z-portfolio',\n",
              "  'pantera-capital-portfolio',\n",
              "  'parafi-capital',\n",
              "  'paradigm-portfolio',\n",
              "  'arbitrum-ecosytem',\n",
              "  'injective-ecosystem'],\n",
              " 'filecoin': ['mineable',\n",
              "  'distributed-computing',\n",
              "  'filesharing',\n",
              "  'storage',\n",
              "  'polychain-capital-portfolio',\n",
              "  'blockchain-capital-portfolio',\n",
              "  'boostvc-portfolio',\n",
              "  'dcg-portfolio',\n",
              "  'hashkey-capital-portfolio',\n",
              "  'a16z-portfolio',\n",
              "  'winklevoss-capital-portfolio',\n",
              "  'pantera-capital-portfolio',\n",
              "  'web3'],\n",
              " 'flow': ['collectibles-nfts',\n",
              "  'coinbase-ventures-portfolio',\n",
              "  'coinfund-portfolio',\n",
              "  'dcg-portfolio',\n",
              "  'ledgerprime-portfolio',\n",
              "  'a16z-portfolio',\n",
              "  'animoca-brands-portfolio'],\n",
              " 'internet-computer': ['platform',\n",
              "  'distributed-computing',\n",
              "  'smart-contracts',\n",
              "  'polychain-capital-portfolio',\n",
              "  'metaverse',\n",
              "  'electric-capital-portfolio',\n",
              "  'hashkey-capital-portfolio',\n",
              "  'a16z-portfolio',\n",
              "  'multicoin-capital-portfolio',\n",
              "  'exnetwork-capital-portfolio',\n",
              "  'web3',\n",
              "  'internet-computer-ecosystem'],\n",
              " 'maker': ['store-of-value',\n",
              "  'defi',\n",
              "  'dao',\n",
              "  'polychain-capital-portfolio',\n",
              "  'governance',\n",
              "  'lending-borowing',\n",
              "  'dragonfly-capital-portfolio',\n",
              "  'electric-capital-portfolio',\n",
              "  'a16z-portfolio',\n",
              "  '1confirmation-portfolio',\n",
              "  'placeholder-ventures-portfolio',\n",
              "  'pantera-capital-portfolio',\n",
              "  'paradigm-portfolio',\n",
              "  'near-protocol-ecosystem',\n",
              "  'arbitrum-ecosytem',\n",
              "  'spartan-group',\n",
              "  'bnb-chain'],\n",
              " 'arweave': ['distributed-computing',\n",
              "  'filesharing',\n",
              "  'storage',\n",
              "  'coinbase-ventures-portfolio',\n",
              "  'solana-ecosystem',\n",
              "  'arrington-xrp-capital-portfolio',\n",
              "  'blockchain-capital-portfolio',\n",
              "  'a16z-portfolio',\n",
              "  'multicoin-capital-portfolio',\n",
              "  'web3'],\n",
              " 'compound': ['defi',\n",
              "  'dao',\n",
              "  'yield-farming',\n",
              "  'polkadot-ecosystem',\n",
              "  'coinbase-ventures-portfolio',\n",
              "  'three-arrows-capital-portfolio',\n",
              "  'polychain-capital-portfolio',\n",
              "  'lending-borowing',\n",
              "  'dragonfly-capital-portfolio',\n",
              "  'alameda-research-portfolio',\n",
              "  'a16z-portfolio',\n",
              "  'pantera-capital-portfolio',\n",
              "  'paradigm-portfolio',\n",
              "  'arbitrum-ecosytem',\n",
              "  'bnb-chain'],\n",
              " 'celo': ['pos',\n",
              "  'zero-knowledge-proofs',\n",
              "  'mobile',\n",
              "  'payments',\n",
              "  'smart-contracts',\n",
              "  'coinbase-ventures-portfolio',\n",
              "  'polychain-capital-portfolio',\n",
              "  'dragonfly-capital-portfolio',\n",
              "  'electric-capital-portfolio',\n",
              "  'a16z-portfolio',\n",
              "  'celo-ecosystem'],\n",
              " 'oasis-network': ['cosmos-ecosystem',\n",
              "  'collectibles-nfts',\n",
              "  'defi',\n",
              "  'privacy',\n",
              "  'scaling',\n",
              "  'smart-contracts',\n",
              "  'polychain-capital-portfolio',\n",
              "  'binance-labs-portfolio',\n",
              "  'arrington-xrp-capital-portfolio',\n",
              "  'blockchain-capital-portfolio',\n",
              "  'dragonfly-capital-portfolio',\n",
              "  'electric-capital-portfolio',\n",
              "  'kenetic-capital-portfolio',\n",
              "  'huobi-capital-portfolio',\n",
              "  'a16z-portfolio',\n",
              "  'winklevoss-capital-portfolio',\n",
              "  'pantera-capital-portfolio',\n",
              "  'injective-ecosystem'],\n",
              " 'keep-network': ['defi',\n",
              "  'privacy',\n",
              "  'coinbase-ventures-portfolio',\n",
              "  'polychain-capital-portfolio',\n",
              "  'boostvc-portfolio',\n",
              "  'fabric-ventures-portfolio',\n",
              "  'a16z-portfolio',\n",
              "  'multicoin-capital-portfolio',\n",
              "  'parafi-capital',\n",
              "  'paradigm-portfolio'],\n",
              " 'orchid': ['polychain-capital-portfolio',\n",
              "  'blockchain-capital-portfolio',\n",
              "  'fabric-ventures-portfolio',\n",
              "  'kenetic-capital-portfolio',\n",
              "  'a16z-portfolio',\n",
              "  'web3'],\n",
              " 'rally': ['yield-farming',\n",
              "  'social-token',\n",
              "  'social-money',\n",
              "  'coinbase-ventures-portfolio',\n",
              "  'kenetic-capital-portfolio',\n",
              "  'ledgerprime-portfolio',\n",
              "  'a16z-portfolio'],\n",
              " 'yield-guild-games': ['collectibles-nfts',\n",
              "  'gaming',\n",
              "  'entertainment',\n",
              "  'dao',\n",
              "  'metaverse',\n",
              "  'a16z-portfolio',\n",
              "  'play-to-earn',\n",
              "  'animoca-brands-portfolio',\n",
              "  'gaming-guild',\n",
              "  'okex-blockdream-ventures-portfolio'],\n",
              " 'handshake': ['distributed-computing',\n",
              "  'collectibles-nfts',\n",
              "  'storage',\n",
              "  'boostvc-portfolio',\n",
              "  'dcg-portfolio',\n",
              "  'kenetic-capital-portfolio',\n",
              "  'a16z-portfolio',\n",
              "  'pantera-capital-portfolio',\n",
              "  'web3']}"
            ]
          },
          "metadata": {},
          "execution_count": 274
        }
      ]
    },
    {
      "cell_type": "code",
      "source": [
        "import pandas as pd"
      ],
      "metadata": {
        "id": "BwuwENtKE2dH"
      },
      "execution_count": null,
      "outputs": []
    },
    {
      "cell_type": "code",
      "source": [
        "dico.keys()"
      ],
      "metadata": {
        "colab": {
          "base_uri": "https://localhost:8080/"
        },
        "id": "cAVoqVqwFYvY",
        "outputId": "f8d7a5ff-b387-4e70-eaa3-a6f0d7c88aac"
      },
      "execution_count": null,
      "outputs": [
        {
          "output_type": "execute_result",
          "data": {
            "text/plain": [
              "dict_keys(['bitcoin', 'ethereum', 'xrp', 'uniswap', 'filecoin', 'flow', 'internet-computer', 'maker', 'arweave', 'compound', 'celo', 'oasis-network', 'keep-network', 'orchid', 'rally', 'yield-guild-games', 'handshake'])"
            ]
          },
          "metadata": {},
          "execution_count": 270
        }
      ]
    },
    {
      "cell_type": "code",
      "source": [
        "import csv"
      ],
      "metadata": {
        "id": "TP5V49jjF-m0"
      },
      "execution_count": null,
      "outputs": []
    },
    {
      "cell_type": "code",
      "source": [
        "with open('categories_test.csv', 'w') as f:\n",
        "  for key in dico.keys():\n",
        "    f.write(\"%s, %s\\n\" % (key, dico[key]))"
      ],
      "metadata": {
        "id": "8a5ij8yPFdDQ"
      },
      "execution_count": null,
      "outputs": []
    }
  ]
}